{
 "cells": [
  {
   "cell_type": "code",
   "execution_count": null,
   "id": "f735f25a",
   "metadata": {},
   "outputs": [],
   "source": [
    "# %config IPCompleter.use_jedi = False"
   ]
  },
  {
   "cell_type": "markdown",
   "id": "501a6336",
   "metadata": {},
   "source": [
    "# 1 import packages, initialize and show map"
   ]
  },
  {
   "cell_type": "code",
   "execution_count": null,
   "id": "af4dcce8",
   "metadata": {},
   "outputs": [],
   "source": [
    "import ee\n",
    "import geemap\n",
    "import os\n",
    "import random\n",
    "import geemap.colormaps as cm\n",
    "import numpy as np\n",
    "import leafmap\n",
    "from tqdm.notebook import tqdm"
   ]
  },
  {
   "cell_type": "code",
   "execution_count": null,
   "id": "97af5066",
   "metadata": {},
   "outputs": [],
   "source": [
    "ee.Initialize()"
   ]
  },
  {
   "cell_type": "code",
   "execution_count": null,
   "id": "0e3f07d1",
   "metadata": {},
   "outputs": [],
   "source": [
    "Map = geemap.Map()\n",
    "Map.add_basemap(\"HYBRID\")\n",
    "Map"
   ]
  },
  {
   "cell_type": "code",
   "execution_count": null,
   "id": "599ca878",
   "metadata": {},
   "outputs": [],
   "source": [
    "# aoi = Map.user_roi\n",
    "# aoi"
   ]
  },
  {
   "cell_type": "markdown",
   "id": "0c871668",
   "metadata": {},
   "source": [
    "# 2 functions to expand array and split images using GDAL"
   ]
  },
  {
   "cell_type": "code",
   "execution_count": null,
   "id": "ffb359b9",
   "metadata": {},
   "outputs": [],
   "source": [
    "from osgeo import gdal\n",
    "import os\n",
    "import numpy as np\n",
    "\n",
    "def pad_array_to_x64x64(array, dimension=64):\n",
    "    \"\"\"\n",
    "    将数组的后两个维度扩充到 [dimension, dimension]，用 -999 填充。\n",
    "    \n",
    "    Args:\n",
    "        array (np.ndarray): 输入的 NumPy 数组，维度为 [*, dimension, dimension]。\n",
    "\n",
    "    Returns:\n",
    "        np.ndarray: 扩充后的数组。\n",
    "    \"\"\"\n",
    "    array= np.array(array)\n",
    "    if array.shape[-2:] == (dimension, dimension):\n",
    "        return array\n",
    "    else:\n",
    "        # 计算需要扩充的行数和列数\n",
    "        rows_to_add = dimension - array.shape[-2]\n",
    "        cols_to_add = dimension - array.shape[-1]\n",
    "\n",
    "        # 使用 np.pad() 扩充数组，并用 -999 填充\n",
    "        padded_array = np.pad(array, ((0, 0), (0, rows_to_add), (0, cols_to_add)), constant_values=-999)\n",
    "        return padded_array\n",
    "\n",
    "\n",
    "def crop_and_replace_nans_infs(input_path, output_folder, crop_size=64, overlap=0):\n",
    "    '''\n",
    "    按照重叠率裁剪多波段图像\n",
    "    :param input_path:\n",
    "    :param output_folder:\n",
    "    :param crop_size:\n",
    "    :param overlap:\n",
    "    :return:\n",
    "    '''\n",
    "    # 打开输入的TIFF图像\n",
    "    dataset = gdal.Open(input_path)\n",
    "\n",
    "    # 获取图像的宽度和高度\n",
    "    width = dataset.RasterXSize\n",
    "    height = dataset.RasterYSize\n",
    "\n",
    "    # 创建输出文件夹\n",
    "    os.makedirs(output_folder, exist_ok=True)\n",
    "    a = 0\n",
    "\n",
    "    for i in range(0, width, int(crop_size * (1 - overlap))):\n",
    "        for j in range(0, height, int(crop_size * (1 - overlap))):\n",
    "            # 读取图像数据\n",
    "            if width-i < 64 and height-j >64:\n",
    "                image_data = dataset.ReadAsArray(i, j, width-i, crop_size)\n",
    "            elif height-j < 64 and width-i > 64:\n",
    "                image_data = dataset.ReadAsArray(i, j, crop_size, height-j)\n",
    "            elif height-j < 64 and width-i < 64:\n",
    "                image_data = dataset.ReadAsArray(i, j, width-i, height-j)\n",
    "            else:\n",
    "                image_data = dataset.ReadAsArray(i, j, crop_size, crop_size)\n",
    "\n",
    "            # 检查NaN和Inf值并替换为0\n",
    "            image_data = np.nan_to_num(image_data, copy=False, nan=-999, posinf=-999, neginf=-999)\n",
    "            \n",
    "            # 扩充后两个维度\n",
    "            image_data = pad_array_to_x64x64(image_data)\n",
    "\n",
    "            # 生成输出文件名，这里假设原始文件名是\"input.tif\"\n",
    "            # output_filename = f\"{output_folder}/{i}-{j}.tif\"\n",
    "            output_filename = f\"{output_folder}/{int(i/64)}_{int(j/64)}.tif\"\n",
    "            # 创建一个新的TIFF文件\n",
    "            driver = gdal.GetDriverByName(\"GTiff\")\n",
    "            output_dataset = driver.Create(output_filename, crop_size, crop_size, dataset.RasterCount, gdal.GDT_Float32)\n",
    "\n",
    "            # 设置地理信息和投影信息\n",
    "            output_dataset.SetGeoTransform((i, dataset.GetGeoTransform()[1], 0, j, 0, dataset.GetGeoTransform()[5]))\n",
    "            output_dataset.SetProjection(dataset.GetProjection())\n",
    "\n",
    "            # 将裁剪后的图像数据写入新文件\n",
    "            for band_index in range(dataset.RasterCount):\n",
    "                output_dataset.GetRasterBand(band_index + 1).WriteArray(image_data[band_index, :, :])\n",
    "\n",
    "            # 关闭输出文件\n",
    "            output_dataset = None\n",
    "            a = a+1\n",
    "\n",
    "    # 关闭输入文件\n",
    "    dataset = None"
   ]
  },
  {
   "cell_type": "markdown",
   "id": "30b5c70e",
   "metadata": {},
   "source": [
    "# 3 ROI(region of interest)"
   ]
  },
  {
   "cell_type": "code",
   "execution_count": null,
   "id": "3d420242",
   "metadata": {},
   "outputs": [],
   "source": [
    "china_CL = ee.Image('users/dushuai/soil_parameters/CL')\n",
    "Map.addLayer(china_CL, {}, 'china')\n",
    "Map.center_object(china_CL, 4)"
   ]
  },
  {
   "cell_type": "code",
   "execution_count": null,
   "id": "86f9ff13",
   "metadata": {},
   "outputs": [],
   "source": [
    "scale = china_CL.projection().nominalScale()\n",
    "mask = china_CL.select(['b1']).neq(-999)\n",
    "geometry = china_CL.select(['b1']).geometry()"
   ]
  },
  {
   "cell_type": "markdown",
   "id": "5a4e6129",
   "metadata": {},
   "source": [
    "## 3.1 clip image collections to ROI and reproject"
   ]
  },
  {
   "cell_type": "code",
   "execution_count": null,
   "id": "eb040a2a",
   "metadata": {},
   "outputs": [],
   "source": [
    "def clip(image):\n",
    "    image = image.reproject(**{'crs':'EPSG:4326','scale':scale}) \\\n",
    "                 .clipToBoundsAndScale(**{'geometry':geometry,\n",
    "                                          'width':7560,'height':4320}) \\\n",
    "                 .mask(mask)\n",
    "    return image"
   ]
  },
  {
   "cell_type": "markdown",
   "id": "bdbfa906",
   "metadata": {},
   "source": [
    "## 4 LAI"
   ]
  },
  {
   "cell_type": "code",
   "execution_count": null,
   "id": "cbcb8f3e",
   "metadata": {},
   "outputs": [],
   "source": [
    "# 设置时间范围\n",
    "start_date = '2019-12-01'\n",
    "end_date = '2021-01-29'\n",
    "\n",
    "def add_day(image):\n",
    "    day = ee.Date(image.get('system:time_start')).difference(ee.Date('2019-12-01'), 'day')\n",
    "    image = image.addBands(ee.Image(day).rename('day')).set('day', day)\n",
    "    return image\n",
    "\n",
    "# 获取 ERA5-LAND 每日数据集\n",
    "dataset_LAI = ee.ImageCollection('MODIS/061/MCD15A3H') \\\n",
    "    .filterDate(start_date, end_date) \\\n",
    "    .filterBounds(geometry) \\\n",
    "    .select(['Lai']).map(add_day)"
   ]
  },
  {
   "cell_type": "code",
   "execution_count": null,
   "id": "96f384d6",
   "metadata": {},
   "outputs": [],
   "source": [
    "LAI_len = dataset_LAI.size()\n",
    "LAI_list = dataset_LAI.toList(LAI_len)\n",
    "LAI_image = ee.Image(LAI_list.get(0)).addBands(mask)\n",
    "LAI_image"
   ]
  },
  {
   "cell_type": "code",
   "execution_count": null,
   "id": "23d2f8a0",
   "metadata": {},
   "outputs": [],
   "source": [
    "visualization = {\n",
    "  'band': ['Lai'],\n",
    "  'min': 0,\n",
    "  'max': 100\n",
    "}"
   ]
  },
  {
   "cell_type": "code",
   "execution_count": null,
   "id": "51c5dcb5",
   "metadata": {},
   "outputs": [],
   "source": [
    "LAI_list"
   ]
  },
  {
   "cell_type": "code",
   "execution_count": null,
   "id": "17b69e47",
   "metadata": {},
   "outputs": [],
   "source": [
    "Map.addLayer(LAI_image.mask(mask), visualization, 'LAI')"
   ]
  },
  {
   "cell_type": "markdown",
   "id": "0ff1fc98",
   "metadata": {},
   "source": [
    "## 4.1 use linear interpolation method generate daily LAI data"
   ]
  },
  {
   "cell_type": "code",
   "execution_count": null,
   "id": "46188ed3",
   "metadata": {},
   "outputs": [],
   "source": [
    "from datetime import datetime, timedelta\n",
    "\n",
    "start_time = datetime(2020, 1, 1)\n",
    "lai_images = ee.Image(0)\n",
    "\n",
    "def Linear_inter(i):\n",
    "    global lai_images\n",
    "    global start_time\n",
    "    \n",
    "    image = ee.Image(LAI_list.get(i))\n",
    "    lai_images = lai_images.addBands(image.select(['Lai']).rename(str(start_time.strftime(\"%Y-%m-%d\"))).toDouble())\n",
    "    inter_day = ee.Number(image.get('day')).add(1)\n",
    "    \n",
    "    previous = ee.Image(LAI_list.get(i))\n",
    "    previous1 = ee.Image(LAI_list.get(i-1))\n",
    "    previous2 = ee.Image(LAI_list.get(i-2))\n",
    "    nexts = ee.Image(LAI_list.get(i+1))\n",
    "    nexts1 = ee.Image(LAI_list.get(i+2))\n",
    "    nexts2 = ee.Image(LAI_list.get(i+3))\n",
    "    \n",
    "    previous_img = previous.select(['Lai'])\n",
    "    previous_day = previous.select([\"day\"])\n",
    "    previous1_img = previous1.select(['Lai'])\n",
    "    previous1_day = previous1.select([\"day\"])\n",
    "    previous2_img = previous2.select(['Lai'])\n",
    "    previous2_day = previous2.select([\"day\"])\n",
    "    \n",
    "    next_img = nexts.select(['Lai'])\n",
    "    next_day = nexts.select([\"day\"])\n",
    "    next1_img = nexts1.select(['Lai'])\n",
    "    next1_day = nexts1.select([\"day\"])\n",
    "    next2_img = nexts2.select(['Lai'])\n",
    "    next2_day = nexts2.select([\"day\"])\n",
    "    \n",
    "    previous_all_img = previous_img.add(previous1_img).add(previous2_img).divide(ee.Image(3))\n",
    "    previous_all_day = previous_day.add(previous1_day).add(previous2_day).divide(ee.Image(3))\n",
    "    nexts_all_img = next_img.add(next1_img).add(next2_img).divide(ee.Image(3))\n",
    "    nexts_all_day = next_day.add(next1_day).add(next2_day).divide(ee.Image(3))\n",
    "    \n",
    "    nexts_day = ee.Number(ee.Image(LAI_list.get(i+1)).get('day'))\n",
    "    while inter_day.getInfo() != nexts_day.getInfo():\n",
    "        start_time += timedelta(days=1)\n",
    "        inter_img = nexts_all_img.subtract(previous_all_img)\\\n",
    "                            .divide(nexts_all_day.subtract(previous_all_day))\\\n",
    "                            .multiply(ee.Image(inter_day).subtract(previous_all_day))\\\n",
    "                            .add(previous_all_img)\n",
    "\n",
    "        lai_images = lai_images.addBands(inter_img.rename(str(start_time.strftime(\"%Y-%m-%d\"))).toDouble())\n",
    "        inter_day = inter_day.add(1)\n",
    "        \n",
    "    start_time += timedelta(days=1)"
   ]
  },
  {
   "cell_type": "code",
   "execution_count": null,
   "id": "a4ec2424",
   "metadata": {},
   "outputs": [],
   "source": [
    "for num in range(8,100):\n",
    "    Linear_inter(num)"
   ]
  },
  {
   "cell_type": "code",
   "execution_count": null,
   "id": "0b9a6f77",
   "metadata": {},
   "outputs": [],
   "source": [
    "lai_images = lai_images.select(lai_images.bandNames().slice(1,)).reproject(**{'crs':'EPSG:4326','scale':scale}) \\\n",
    "                                              .clipToBoundsAndScale(**{'geometry':geometry,\n",
    "                                                                      'width':7560,'height':4320})\n",
    "lai_images"
   ]
  },
  {
   "cell_type": "markdown",
   "id": "688ee9c9",
   "metadata": {},
   "source": [
    "# 5 download LAI with fixed dimensions which we want using geemap "
   ]
  },
  {
   "cell_type": "code",
   "execution_count": null,
   "id": "eb8895c2",
   "metadata": {},
   "outputs": [],
   "source": [
    "out = r'H:\\soil_moistur_retrieval\\images\\lai.tif'\n",
    "geemap.download_ee_image(lai_images, out, shape=[4320,7560])"
   ]
  },
  {
   "cell_type": "markdown",
   "id": "83ccd2c3",
   "metadata": {},
   "source": [
    "# 6 split images to image chips with dimensions we want using leafmap if the image size is samll, like seviral hundreds MB."
   ]
  },
  {
   "cell_type": "code",
   "execution_count": null,
   "id": "7b18a7f7",
   "metadata": {},
   "outputs": [],
   "source": [
    "outdir = r'H:\\soil_moistur_retrieval\\tiles\\lai'\n",
    "leafmap.split_raster(out, out_dir=outdir, tile_size=(64,64), overlap=0)"
   ]
  },
  {
   "cell_type": "markdown",
   "id": "baf3d6bd",
   "metadata": {},
   "source": [
    "# 7 split images to image chips with dimensions we want using GDAL if the image size is big, like more than several GB."
   ]
  },
  {
   "cell_type": "code",
   "execution_count": null,
   "id": "72560b02",
   "metadata": {},
   "outputs": [],
   "source": [
    "# 按照重叠率裁剪多波段图像\n",
    "from glob import glob\n",
    "input_file = out\n",
    "output_folder_path = r\"H:\\soil_moistur_retrieval\\tiles\\lai\"\n",
    "crop_and_replace_nans_infs(input_file, output_folder_path, overlap=0)"
   ]
  },
  {
   "cell_type": "markdown",
   "id": "f7b771b4",
   "metadata": {},
   "source": [
    "# 8 LAI time series change after interpolation and SG smoothing"
   ]
  },
  {
   "cell_type": "code",
   "execution_count": null,
   "id": "0fcce39b",
   "metadata": {},
   "outputs": [],
   "source": [
    "fc_point = ee.FeatureCollection([\n",
    "    ee.Feature(ee.Geometry.Point([112.37, 29.22]), {'name':'Cultivated Land'}),\n",
    "    ee.Feature(ee.Geometry.Point([122.00, 49.80]), {'name':'Forest'}),# 东北\n",
    "    ee.Feature(ee.Geometry.Point([112.88, 28.22]), {'name':'City'}),# 长沙\n",
    "#     ee.Feature(ee.Geometry.Point([119.18, 29.84]), {'name':'Forest1'}),\n",
    "])\n",
    "\n",
    "lai = lai_images.sampleRegions(collection=fc_point)"
   ]
  },
  {
   "cell_type": "code",
   "execution_count": null,
   "id": "7191a719",
   "metadata": {},
   "outputs": [],
   "source": [
    "# list(data[0]['properties'].values())[:-1]"
   ]
  },
  {
   "cell_type": "code",
   "execution_count": null,
   "id": "39ad30c9",
   "metadata": {},
   "outputs": [],
   "source": [
    "import pandas as pd\n",
    "import matplotlib.pyplot as plt\n",
    "from scipy.signal import savgol_filter\n",
    "\n",
    "data = lai.getInfo()['features']\n",
    "# 示例数据\n",
    "x_axis_data = list(range(1,367))\n",
    "y_axis_data = list(data[0]['properties'].values())[:-1]\n",
    "y_axis_data1 = list(data[1]['properties'].values())[:-1]\n",
    "y_axis_data2 = list(data[2]['properties'].values())[:-1]\n",
    "# y_axis_data3 = list(data[3]['properties'].values())[:-1]\n",
    "\n",
    "# SG平滑 SG filter smooth\n",
    "# window_length = 15\n",
    "# polyorder = 2\n",
    "# y_axis_data = savgol_filter(y_axis_data, window_length, polyorder)\n",
    "# y_axis_data1 = savgol_filter(y_axis_data1, window_length, polyorder)\n",
    "# y_axis_data2 = savgol_filter(y_axis_data2, window_length, polyorder)\n",
    "\n",
    "# 绘制折线图\n",
    "plt.plot(x_axis_data, y_axis_data, 'b-', alpha=0.5, linewidth=2, label=list(data[0]['properties'].values())[-1])\n",
    "plt.plot(x_axis_data, y_axis_data1, 'r-', alpha=0.5, linewidth=2, label=list(data[1]['properties'].values())[-1])\n",
    "plt.plot(x_axis_data, y_axis_data2, 'y-', alpha=0.5, linewidth=2, label=list(data[2]['properties'].values())[-1])\n",
    "# plt.plot(x_axis_data, y_axis_data3, 'y-', alpha=0.5, linewidth=1, label=list(data[3]['properties'].values())[-1])\n",
    "# 'b*--' 表示蓝色实线，数据点为实心原点标注\n",
    "\n",
    "plt.legend()  # 显示图例\n",
    "plt.xlabel('DOY')  # x轴标签\n",
    "plt.ylabel('LAI')  # y轴标签\n",
    "\n",
    "plt.show()\n"
   ]
  },
  {
   "cell_type": "code",
   "execution_count": null,
   "id": "99c5a841",
   "metadata": {},
   "outputs": [],
   "source": []
  }
 ],
 "metadata": {
  "kernelspec": {
   "display_name": "gee1",
   "language": "python",
   "name": "gee1"
  },
  "language_info": {
   "codemirror_mode": {
    "name": "ipython",
    "version": 3
   },
   "file_extension": ".py",
   "mimetype": "text/x-python",
   "name": "python",
   "nbconvert_exporter": "python",
   "pygments_lexer": "ipython3",
   "version": "3.11.8"
  }
 },
 "nbformat": 4,
 "nbformat_minor": 5
}
