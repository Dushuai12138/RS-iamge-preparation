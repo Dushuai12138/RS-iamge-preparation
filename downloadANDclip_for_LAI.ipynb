{
 "cells": [
  {
   "cell_type": "code",
   "execution_count": null,
   "id": "f735f25a",
   "metadata": {},
   "outputs": [],
   "source": [
    "# %config IPCompleter.use_jedi = False"
   ]
  },
  {
   "cell_type": "code",
   "execution_count": 1,
   "id": "af4dcce8",
   "metadata": {},
   "outputs": [],
   "source": [
    "import ee\n",
    "import geemap\n",
    "import os\n",
    "import random\n",
    "import geemap.colormaps as cm\n",
    "import numpy as np\n",
    "import leafmap\n",
    "from tqdm.notebook import tqdm\n",
    "import geemap"
   ]
  },
  {
   "cell_type": "code",
   "execution_count": 2,
   "id": "97af5066",
   "metadata": {},
   "outputs": [
    {
     "data": {
      "text/html": [
       "\n",
       "            <style>\n",
       "                .geemap-dark {\n",
       "                    --jp-widgets-color: white;\n",
       "                    --jp-widgets-label-color: white;\n",
       "                    --jp-ui-font-color1: white;\n",
       "                    --jp-layout-color2: #454545;\n",
       "                    background-color: #383838;\n",
       "                }\n",
       "\n",
       "                .geemap-dark .jupyter-button {\n",
       "                    --jp-layout-color3: #383838;\n",
       "                }\n",
       "\n",
       "                .geemap-colab {\n",
       "                    background-color: var(--colab-primary-surface-color, white);\n",
       "                }\n",
       "\n",
       "                .geemap-colab .jupyter-button {\n",
       "                    --jp-layout-color3: var(--colab-primary-surface-color, white);\n",
       "                }\n",
       "            </style>\n",
       "            "
      ],
      "text/plain": [
       "<IPython.core.display.HTML object>"
      ]
     },
     "metadata": {},
     "output_type": "display_data"
    }
   ],
   "source": [
    "ee.Initialize()"
   ]
  },
  {
   "cell_type": "code",
   "execution_count": 3,
   "id": "cebcd462",
   "metadata": {},
   "outputs": [
    {
     "data": {
      "text/html": [
       "\n",
       "            <style>\n",
       "                .geemap-dark {\n",
       "                    --jp-widgets-color: white;\n",
       "                    --jp-widgets-label-color: white;\n",
       "                    --jp-ui-font-color1: white;\n",
       "                    --jp-layout-color2: #454545;\n",
       "                    background-color: #383838;\n",
       "                }\n",
       "\n",
       "                .geemap-dark .jupyter-button {\n",
       "                    --jp-layout-color3: #383838;\n",
       "                }\n",
       "\n",
       "                .geemap-colab {\n",
       "                    background-color: var(--colab-primary-surface-color, white);\n",
       "                }\n",
       "\n",
       "                .geemap-colab .jupyter-button {\n",
       "                    --jp-layout-color3: var(--colab-primary-surface-color, white);\n",
       "                }\n",
       "            </style>\n",
       "            "
      ],
      "text/plain": [
       "<IPython.core.display.HTML object>"
      ]
     },
     "metadata": {},
     "output_type": "display_data"
    }
   ],
   "source": [
    "# from oeel import oeel"
   ]
  },
  {
   "cell_type": "code",
   "execution_count": 4,
   "id": "8d9ff533",
   "metadata": {},
   "outputs": [
    {
     "data": {
      "text/html": [
       "\n",
       "            <style>\n",
       "                .geemap-dark {\n",
       "                    --jp-widgets-color: white;\n",
       "                    --jp-widgets-label-color: white;\n",
       "                    --jp-ui-font-color1: white;\n",
       "                    --jp-layout-color2: #454545;\n",
       "                    background-color: #383838;\n",
       "                }\n",
       "\n",
       "                .geemap-dark .jupyter-button {\n",
       "                    --jp-layout-color3: #383838;\n",
       "                }\n",
       "\n",
       "                .geemap-colab {\n",
       "                    background-color: var(--colab-primary-surface-color, white);\n",
       "                }\n",
       "\n",
       "                .geemap-colab .jupyter-button {\n",
       "                    --jp-layout-color3: var(--colab-primary-surface-color, white);\n",
       "                }\n",
       "            </style>\n",
       "            "
      ],
      "text/plain": [
       "<IPython.core.display.HTML object>"
      ]
     },
     "metadata": {},
     "output_type": "display_data"
    }
   ],
   "source": [
    "# js = geemap.requireJS(\"users/gena/packages:grid\")"
   ]
  },
  {
   "cell_type": "code",
   "execution_count": 5,
   "id": "0e3f07d1",
   "metadata": {},
   "outputs": [
    {
     "data": {
      "text/html": [
       "\n",
       "            <style>\n",
       "                .geemap-dark {\n",
       "                    --jp-widgets-color: white;\n",
       "                    --jp-widgets-label-color: white;\n",
       "                    --jp-ui-font-color1: white;\n",
       "                    --jp-layout-color2: #454545;\n",
       "                    background-color: #383838;\n",
       "                }\n",
       "\n",
       "                .geemap-dark .jupyter-button {\n",
       "                    --jp-layout-color3: #383838;\n",
       "                }\n",
       "\n",
       "                .geemap-colab {\n",
       "                    background-color: var(--colab-primary-surface-color, white);\n",
       "                }\n",
       "\n",
       "                .geemap-colab .jupyter-button {\n",
       "                    --jp-layout-color3: var(--colab-primary-surface-color, white);\n",
       "                }\n",
       "            </style>\n",
       "            "
      ],
      "text/plain": [
       "<IPython.core.display.HTML object>"
      ]
     },
     "metadata": {},
     "output_type": "display_data"
    },
    {
     "data": {
      "application/vnd.jupyter.widget-view+json": {
       "model_id": "26e9673aa8004d188782b1a4cf0c271b",
       "version_major": 2,
       "version_minor": 0
      },
      "text/plain": [
       "Map(center=[0, 0], controls=(WidgetControl(options=['position', 'transparent_bg'], widget=SearchDataGUI(childr…"
      ]
     },
     "metadata": {},
     "output_type": "display_data"
    }
   ],
   "source": [
    "Map = geemap.Map()\n",
    "Map.add_basemap(\"HYBRID\")\n",
    "Map"
   ]
  },
  {
   "cell_type": "code",
   "execution_count": 6,
   "id": "599ca878",
   "metadata": {},
   "outputs": [
    {
     "data": {
      "text/html": [
       "\n",
       "            <style>\n",
       "                .geemap-dark {\n",
       "                    --jp-widgets-color: white;\n",
       "                    --jp-widgets-label-color: white;\n",
       "                    --jp-ui-font-color1: white;\n",
       "                    --jp-layout-color2: #454545;\n",
       "                    background-color: #383838;\n",
       "                }\n",
       "\n",
       "                .geemap-dark .jupyter-button {\n",
       "                    --jp-layout-color3: #383838;\n",
       "                }\n",
       "\n",
       "                .geemap-colab {\n",
       "                    background-color: var(--colab-primary-surface-color, white);\n",
       "                }\n",
       "\n",
       "                .geemap-colab .jupyter-button {\n",
       "                    --jp-layout-color3: var(--colab-primary-surface-color, white);\n",
       "                }\n",
       "            </style>\n",
       "            "
      ],
      "text/plain": [
       "<IPython.core.display.HTML object>"
      ]
     },
     "metadata": {},
     "output_type": "display_data"
    }
   ],
   "source": [
    "# aoi = Map.user_roi\n",
    "# aoi"
   ]
  },
  {
   "cell_type": "code",
   "execution_count": 7,
   "id": "ffb359b9",
   "metadata": {},
   "outputs": [
    {
     "data": {
      "text/html": [
       "\n",
       "            <style>\n",
       "                .geemap-dark {\n",
       "                    --jp-widgets-color: white;\n",
       "                    --jp-widgets-label-color: white;\n",
       "                    --jp-ui-font-color1: white;\n",
       "                    --jp-layout-color2: #454545;\n",
       "                    background-color: #383838;\n",
       "                }\n",
       "\n",
       "                .geemap-dark .jupyter-button {\n",
       "                    --jp-layout-color3: #383838;\n",
       "                }\n",
       "\n",
       "                .geemap-colab {\n",
       "                    background-color: var(--colab-primary-surface-color, white);\n",
       "                }\n",
       "\n",
       "                .geemap-colab .jupyter-button {\n",
       "                    --jp-layout-color3: var(--colab-primary-surface-color, white);\n",
       "                }\n",
       "            </style>\n",
       "            "
      ],
      "text/plain": [
       "<IPython.core.display.HTML object>"
      ]
     },
     "metadata": {},
     "output_type": "display_data"
    }
   ],
   "source": [
    "from osgeo import gdal\n",
    "import os\n",
    "import numpy as np\n",
    "\n",
    "def pad_array_to_x64x64(array, dimension=64):\n",
    "    \"\"\"\n",
    "    将数组的后两个维度扩充到 [dimension, dimension]，用 -999 填充。\n",
    "    \n",
    "    Args:\n",
    "        array (np.ndarray): 输入的 NumPy 数组，维度为 [*, dimension, dimension]。\n",
    "\n",
    "    Returns:\n",
    "        np.ndarray: 扩充后的数组。\n",
    "    \"\"\"\n",
    "    array= np.array(array)\n",
    "    if array.shape[-2:] == (dimension, dimension):\n",
    "        return array\n",
    "    else:\n",
    "        # 计算需要扩充的行数和列数\n",
    "        rows_to_add = dimension - array.shape[-2]\n",
    "        cols_to_add = dimension - array.shape[-1]\n",
    "\n",
    "        # 使用 np.pad() 扩充数组，并用 -999 填充\n",
    "        padded_array = np.pad(array, ((0, 0), (0, rows_to_add), (0, cols_to_add)), constant_values=-999)\n",
    "        return padded_array\n",
    "\n",
    "\n",
    "def crop_and_replace_nans_infs(input_path, output_folder, crop_size=64, overlap=0):\n",
    "    '''\n",
    "    按照重叠率裁剪多波段图像\n",
    "    :param input_path:\n",
    "    :param output_folder:\n",
    "    :param crop_size:\n",
    "    :param overlap:\n",
    "    :return:\n",
    "    '''\n",
    "    # 打开输入的TIFF图像\n",
    "    dataset = gdal.Open(input_path)\n",
    "\n",
    "    # 获取图像的宽度和高度\n",
    "    width = dataset.RasterXSize\n",
    "    height = dataset.RasterYSize\n",
    "\n",
    "    # 创建输出文件夹\n",
    "    os.makedirs(output_folder, exist_ok=True)\n",
    "    a = 0\n",
    "\n",
    "    for i in range(0, width, int(crop_size * (1 - overlap))):\n",
    "        for j in range(0, height, int(crop_size * (1 - overlap))):\n",
    "            # 读取图像数据\n",
    "            if width-i < 64 and height-j >64:\n",
    "                image_data = dataset.ReadAsArray(i, j, width-i, crop_size)\n",
    "            elif height-j < 64 and width-i > 64:\n",
    "                image_data = dataset.ReadAsArray(i, j, crop_size, height-j)\n",
    "            elif height-j < 64 and width-i < 64:\n",
    "                image_data = dataset.ReadAsArray(i, j, width-i, height-j)\n",
    "            else:\n",
    "                image_data = dataset.ReadAsArray(i, j, crop_size, crop_size)\n",
    "\n",
    "            # 检查NaN和Inf值并替换为0\n",
    "            image_data = np.nan_to_num(image_data, copy=False, nan=-999, posinf=-999, neginf=-999)\n",
    "            \n",
    "            # 扩充后两个维度\n",
    "            image_data = pad_array_to_x64x64(image_data)\n",
    "\n",
    "            # 生成输出文件名，这里假设原始文件名是\"input.tif\"\n",
    "            # output_filename = f\"{output_folder}/{i}-{j}.tif\"\n",
    "            output_filename = f\"{output_folder}/{int(i/64)}_{int(j/64)}.tif\"\n",
    "            # 创建一个新的TIFF文件\n",
    "            driver = gdal.GetDriverByName(\"GTiff\")\n",
    "            output_dataset = driver.Create(output_filename, crop_size, crop_size, dataset.RasterCount, gdal.GDT_Float32)\n",
    "\n",
    "            # 设置地理信息和投影信息\n",
    "            output_dataset.SetGeoTransform((i, dataset.GetGeoTransform()[1], 0, j, 0, dataset.GetGeoTransform()[5]))\n",
    "            output_dataset.SetProjection(dataset.GetProjection())\n",
    "\n",
    "            # 将裁剪后的图像数据写入新文件\n",
    "            for band_index in range(dataset.RasterCount):\n",
    "                output_dataset.GetRasterBand(band_index + 1).WriteArray(image_data[band_index, :, :])\n",
    "\n",
    "            # 关闭输出文件\n",
    "            output_dataset = None\n",
    "            a = a+1\n",
    "\n",
    "    # 关闭输入文件\n",
    "    dataset = None"
   ]
  },
  {
   "cell_type": "markdown",
   "id": "30b5c70e",
   "metadata": {},
   "source": [
    "# 1 soil parameters"
   ]
  },
  {
   "cell_type": "code",
   "execution_count": 8,
   "id": "3d420242",
   "metadata": {},
   "outputs": [
    {
     "data": {
      "text/html": [
       "\n",
       "            <style>\n",
       "                .geemap-dark {\n",
       "                    --jp-widgets-color: white;\n",
       "                    --jp-widgets-label-color: white;\n",
       "                    --jp-ui-font-color1: white;\n",
       "                    --jp-layout-color2: #454545;\n",
       "                    background-color: #383838;\n",
       "                }\n",
       "\n",
       "                .geemap-dark .jupyter-button {\n",
       "                    --jp-layout-color3: #383838;\n",
       "                }\n",
       "\n",
       "                .geemap-colab {\n",
       "                    background-color: var(--colab-primary-surface-color, white);\n",
       "                }\n",
       "\n",
       "                .geemap-colab .jupyter-button {\n",
       "                    --jp-layout-color3: var(--colab-primary-surface-color, white);\n",
       "                }\n",
       "            </style>\n",
       "            "
      ],
      "text/plain": [
       "<IPython.core.display.HTML object>"
      ]
     },
     "metadata": {},
     "output_type": "display_data"
    }
   ],
   "source": [
    "china_CL = ee.Image('users/dushuai/soil_parameters/CL')\n",
    "china_GRAV = ee.Image('users/dushuai/soil_parameters/GRAV')\n",
    "china_POR = ee.Image('users/dushuai/soil_parameters/POR')\n",
    "china_SA = ee.Image('users/dushuai/soil_parameters/SA')\n",
    "china_SI = ee.Image('users/dushuai/soil_parameters/SI')\n",
    "Map.addLayer(china_CL, {}, 'china')\n",
    "Map.center_object(china_CL, 4)"
   ]
  },
  {
   "cell_type": "code",
   "execution_count": 9,
   "id": "58a4a027",
   "metadata": {},
   "outputs": [
    {
     "data": {
      "text/html": [
       "\n",
       "            <style>\n",
       "                .geemap-dark {\n",
       "                    --jp-widgets-color: white;\n",
       "                    --jp-widgets-label-color: white;\n",
       "                    --jp-ui-font-color1: white;\n",
       "                    --jp-layout-color2: #454545;\n",
       "                    background-color: #383838;\n",
       "                }\n",
       "\n",
       "                .geemap-dark .jupyter-button {\n",
       "                    --jp-layout-color3: #383838;\n",
       "                }\n",
       "\n",
       "                .geemap-colab {\n",
       "                    background-color: var(--colab-primary-surface-color, white);\n",
       "                }\n",
       "\n",
       "                .geemap-colab .jupyter-button {\n",
       "                    --jp-layout-color3: var(--colab-primary-surface-color, white);\n",
       "                }\n",
       "            </style>\n",
       "            "
      ],
      "text/plain": [
       "<IPython.core.display.HTML object>"
      ]
     },
     "metadata": {},
     "output_type": "display_data"
    },
    {
     "data": {
      "text/html": [
       "<div><style>:root {\n",
       "  --font-color-primary: var(--jp-content-font-color0, rgba(0, 0, 0, 1));\n",
       "  --font-color-secondary: var(--jp-content-font-color2, rgba(0, 0, 0, 0.6));\n",
       "  --font-color-accent: rgba(123, 31, 162, 1);\n",
       "  --border-color: var(--jp-border-color2, #e0e0e0);\n",
       "  --background-color: var(--jp-layout-color0, white);\n",
       "  --background-color-row-even: var(--jp-layout-color1, white);\n",
       "  --background-color-row-odd: var(--jp-layout-color2, #eeeeee);\n",
       "}\n",
       "\n",
       "html[theme=\"dark\"],\n",
       "body[data-theme=\"dark\"],\n",
       "body.vscode-dark {\n",
       "  --font-color-primary: rgba(255, 255, 255, 1);\n",
       "  --font-color-secondary: rgba(255, 255, 255, 0.6);\n",
       "  --font-color-accent: rgb(173, 132, 190);\n",
       "  --border-color: #2e2e2e;\n",
       "  --background-color: #111111;\n",
       "  --background-color-row-even: #111111;\n",
       "  --background-color-row-odd: #313131;\n",
       "}\n",
       "\n",
       ".ee {\n",
       "  padding: 1em;\n",
       "  line-height: 1.5em;\n",
       "  min-width: 300px;\n",
       "  max-width: 1200px;\n",
       "  overflow-y: scroll;\n",
       "  max-height: 600px;\n",
       "  border: 1px solid var(--border-color);\n",
       "  font-family: monospace;\n",
       "}\n",
       "\n",
       ".ee li {\n",
       "  list-style-type: none;\n",
       "}\n",
       "\n",
       ".ee ul {\n",
       "  padding-left: 1.5em !important;\n",
       "  margin: 0;\n",
       "}\n",
       "\n",
       ".ee > ul {\n",
       "  padding-left: 0 !important;\n",
       "}\n",
       "\n",
       ".ee-open,\n",
       ".ee-shut {\n",
       "  color: var(--font-color-secondary);\n",
       "  cursor: pointer;\n",
       "  margin: 0;\n",
       "}\n",
       "\n",
       ".ee-open:hover,\n",
       ".ee-shut:hover {\n",
       "  color: var(--font-color-primary);\n",
       "}\n",
       "\n",
       ".ee-k {\n",
       "  color: var(--font-color-accent);\n",
       "  margin-right: 6px;\n",
       "}\n",
       "\n",
       ".ee-v {\n",
       "  color: var(--font-color-primary);\n",
       "}\n",
       "\n",
       ".ee-toggle {\n",
       "  display: none;\n",
       "}\n",
       "\n",
       ".ee-shut + ul {\n",
       "  display: none;\n",
       "}\n",
       "\n",
       ".ee-open + ul {\n",
       "  display: block;\n",
       "}\n",
       "\n",
       ".ee-shut::before {\n",
       "  display: inline-block;\n",
       "  content: \"▼\";\n",
       "  margin-right: 6px;\n",
       "  transform: rotate(-90deg);\n",
       "  transition: transform 0.2s;\n",
       "}\n",
       "\n",
       ".ee-open::before {\n",
       "  transform: rotate(0deg);\n",
       "  display: inline-block;\n",
       "  content: \"▼\";\n",
       "  margin-right: 6px;\n",
       "  transition: transform 0.2s;\n",
       "}\n",
       "</style><div class='ee'><ul><li><label class='ee-shut'>Image users/dushuai/soil_parameters/CL (2 bands)<input type='checkbox' class='ee-toggle'></label><ul><li><span class='ee-k'>type:</span><span class='ee-v'>Image</span></li><li><span class='ee-k'>id:</span><span class='ee-v'>users/dushuai/soil_parameters/CL</span></li><li><span class='ee-k'>version:</span><span class='ee-v'>1715135499848813</span></li><li><label class='ee-shut'>bands: List (2 elements)<input type='checkbox' class='ee-toggle'></label><ul><li><label class='ee-shut'>0: \"b1\", float, EPSG:4326, 7560x4320 px<input type='checkbox' class='ee-toggle'></label><ul><li><span class='ee-k'>id:</span><span class='ee-v'>b1</span></li><li><span class='ee-k'>crs:</span><span class='ee-v'>EPSG:4326</span></li><li><label class='ee-shut'>crs_transform: List (6 elements)<input type='checkbox' class='ee-toggle'></label><ul><li><span class='ee-k'>0:</span><span class='ee-v'>0.008331298828125</span></li><li><span class='ee-k'>1:</span><span class='ee-v'>0</span></li><li><span class='ee-k'>2:</span><span class='ee-v'>73.00416564941406</span></li><li><span class='ee-k'>3:</span><span class='ee-v'>0</span></li><li><span class='ee-k'>4:</span><span class='ee-v'>0.008333206176757812</span></li><li><span class='ee-k'>5:</span><span class='ee-v'>18.004167556762695</span></li></ul></li><li><label class='ee-shut'>data_type: float<input type='checkbox' class='ee-toggle'></label><ul><li><span class='ee-k'>type:</span><span class='ee-v'>PixelType</span></li><li><span class='ee-k'>precision:</span><span class='ee-v'>float</span></li></ul></li><li><label class='ee-shut'>dimensions: [7560, 4320]<input type='checkbox' class='ee-toggle'></label><ul><li><span class='ee-k'>0:</span><span class='ee-v'>7560</span></li><li><span class='ee-k'>1:</span><span class='ee-v'>4320</span></li></ul></li></ul></li><li><label class='ee-shut'>1: \"b2\", float, EPSG:4326, 7560x4320 px<input type='checkbox' class='ee-toggle'></label><ul><li><span class='ee-k'>id:</span><span class='ee-v'>b2</span></li><li><span class='ee-k'>crs:</span><span class='ee-v'>EPSG:4326</span></li><li><label class='ee-shut'>crs_transform: List (6 elements)<input type='checkbox' class='ee-toggle'></label><ul><li><span class='ee-k'>0:</span><span class='ee-v'>0.008331298828125</span></li><li><span class='ee-k'>1:</span><span class='ee-v'>0</span></li><li><span class='ee-k'>2:</span><span class='ee-v'>73.00416564941406</span></li><li><span class='ee-k'>3:</span><span class='ee-v'>0</span></li><li><span class='ee-k'>4:</span><span class='ee-v'>0.008333206176757812</span></li><li><span class='ee-k'>5:</span><span class='ee-v'>18.004167556762695</span></li></ul></li><li><label class='ee-shut'>data_type: float<input type='checkbox' class='ee-toggle'></label><ul><li><span class='ee-k'>type:</span><span class='ee-v'>PixelType</span></li><li><span class='ee-k'>precision:</span><span class='ee-v'>float</span></li></ul></li><li><label class='ee-shut'>dimensions: [7560, 4320]<input type='checkbox' class='ee-toggle'></label><ul><li><span class='ee-k'>0:</span><span class='ee-v'>7560</span></li><li><span class='ee-k'>1:</span><span class='ee-v'>4320</span></li></ul></li></ul></li></ul></li><li><label class='ee-shut'>properties: Object (2 properties)<input type='checkbox' class='ee-toggle'></label><ul><li><span class='ee-k'>system:asset_size:</span><span class='ee-v'>17371183</span></li><li><label class='ee-shut'>system:footprint: LinearRing (20 vertices)<input type='checkbox' class='ee-toggle'></label><ul><li><span class='ee-k'>type:</span><span class='ee-v'>LinearRing</span></li><li><label class='ee-shut'>coordinates: List (20 elements)<input type='checkbox' class='ee-toggle'></label><ul><li><label class='ee-shut'>0: [86.29239202718563, 17.99067507761186]<input type='checkbox' class='ee-toggle'></label><ul><li><span class='ee-k'>0:</span><span class='ee-v'>86.29239202718563</span></li><li><span class='ee-k'>1:</span><span class='ee-v'>17.99067507761186</span></li></ul></li><li><label class='ee-shut'>1: [90.72041228511546, 17.985088053282254]<input type='checkbox' class='ee-toggle'></label><ul><li><span class='ee-k'>0:</span><span class='ee-v'>90.72041228511546</span></li><li><span class='ee-k'>1:</span><span class='ee-v'>17.985088053282254</span></li></ul></li><li><label class='ee-shut'>2: [96.13243700708828, 17.978259814060415]<input type='checkbox' class='ee-toggle'></label><ul><li><span class='ee-k'>0:</span><span class='ee-v'>96.13243700708828</span></li><li><span class='ee-k'>1:</span><span class='ee-v'>17.978259814060415</span></li></ul></li><li><label class='ee-shut'>3: [103.51247071652105, 17.950330415006384]<input type='checkbox' class='ee-toggle'></label><ul><li><span class='ee-k'>0:</span><span class='ee-v'>103.51247071652105</span></li><li><span class='ee-k'>1:</span><span class='ee-v'>17.950330415006384</span></li></ul></li><li><label class='ee-shut'>4: [111.87650899468376, 17.96088075534422]<input type='checkbox' class='ee-toggle'></label><ul><li><span class='ee-k'>0:</span><span class='ee-v'>111.87650899468376</span></li><li><span class='ee-k'>1:</span><span class='ee-v'>17.96088075534422</span></li></ul></li><li><label class='ee-shut'>5: [117.7805359525471, 17.990675075671042]<input type='checkbox' class='ee-toggle'></label><ul><li><span class='ee-k'>0:</span><span class='ee-v'>117.7805359525471</span></li><li><span class='ee-k'>1:</span><span class='ee-v'>17.990675075671042</span></li></ul></li><li><label class='ee-shut'>6: [122.7005584070337, 17.978259845108752]<input type='checkbox' class='ee-toggle'></label><ul><li><span class='ee-k'>0:</span><span class='ee-v'>122.7005584070337</span></li><li><span class='ee-k'>1:</span><span class='ee-v'>17.978259845108752</span></li></ul></li><li><label class='ee-shut'>7: [130.08059216271448, 17.95033044157195]<input type='checkbox' class='ee-toggle'></label><ul><li><span class='ee-k'>0:</span><span class='ee-v'>130.08059216271448</span></li><li><span class='ee-k'>1:</span><span class='ee-v'>17.95033044157195</span></li></ul></li><li><label class='ee-shut'>8: [135.9933945929028, 17.994954011523877]<input type='checkbox' class='ee-toggle'></label><ul><li><span class='ee-k'>0:</span><span class='ee-v'>135.9933945929028</span></li><li><span class='ee-k'>1:</span><span class='ee-v'>17.994954011523877</span></li></ul></li><li><label class='ee-shut'>9: [135.99882159430356, 54.00773979222747]<input type='checkbox' class='ee-toggle'></label><ul><li><span class='ee-k'>0:</span><span class='ee-v'>135.99882159430356</span></li><li><span class='ee-k'>1:</span><span class='ee-v'>54.00773979222747</span></li></ul></li><li><label class='ee-shut'>10: [123.19256075468597, 54.00779866929387]<input type='checkbox' class='ee-toggle'></label><ul><li><span class='ee-k'>0:</span><span class='ee-v'>123.19256075468597</span></li><li><span class='ee-k'>1:</span><span class='ee-v'>54.00779866929387</span></li></ul></li><li><label class='ee-shut'>11: [113.35251575177419, 54.00779869375625]<input type='checkbox' class='ee-toggle'></label><ul><li><span class='ee-k'>0:</span><span class='ee-v'>113.35251575177419</span></li><li><span class='ee-k'>1:</span><span class='ee-v'>54.00779869375625</span></li></ul></li><li><label class='ee-shut'>12: [103.51247069277731, 54.0077986680664]<input type='checkbox' class='ee-toggle'></label><ul><li><span class='ee-k'>0:</span><span class='ee-v'>103.51247069277731</span></li><li><span class='ee-k'>1:</span><span class='ee-v'>54.0077986680664</span></li></ul></li><li><label class='ee-shut'>13: [91.70441679119138, 54.00779862469244]<input type='checkbox' class='ee-toggle'></label><ul><li><span class='ee-k'>0:</span><span class='ee-v'>91.70441679119138</span></li><li><span class='ee-k'>1:</span><span class='ee-v'>54.00779862469244</span></li></ul></li><li><label class='ee-shut'>14: [83.83238071241911, 54.00779868748152]<input type='checkbox' class='ee-toggle'></label><ul><li><span class='ee-k'>0:</span><span class='ee-v'>83.83238071241911</span></li><li><span class='ee-k'>1:</span><span class='ee-v'>54.00779868748152</span></li></ul></li><li><label class='ee-shut'>15: [72.9941288555521, 54.007739872957664]<input type='checkbox' class='ee-toggle'></label><ul><li><span class='ee-k'>0:</span><span class='ee-v'>72.9941288555521</span></li><li><span class='ee-k'>1:</span><span class='ee-v'>54.007739872957664</span></li></ul></li><li><label class='ee-shut'>16: [72.99955531488057, 17.99996495789959]<input type='checkbox' class='ee-toggle'></label><ul><li><span class='ee-k'>0:</span><span class='ee-v'>72.99955531488057</span></li><li><span class='ee-k'>1:</span><span class='ee-v'>17.99996495789959</span></li></ul></li><li><label class='ee-shut'>17: [76.45234700756798, 17.978259876566664]<input type='checkbox' class='ee-toggle'></label><ul><li><span class='ee-k'>0:</span><span class='ee-v'>76.45234700756798</span></li><li><span class='ee-k'>1:</span><span class='ee-v'>17.978259876566664</span></li></ul></li><li><label class='ee-shut'>18: [81.86437177140823, 17.985088019987995]<input type='checkbox' class='ee-toggle'></label><ul><li><span class='ee-k'>0:</span><span class='ee-v'>81.86437177140823</span></li><li><span class='ee-k'>1:</span><span class='ee-v'>17.985088019987995</span></li></ul></li><li><label class='ee-shut'>19: [86.29239202718563, 17.99067507761186]<input type='checkbox' class='ee-toggle'></label><ul><li><span class='ee-k'>0:</span><span class='ee-v'>86.29239202718563</span></li><li><span class='ee-k'>1:</span><span class='ee-v'>17.99067507761186</span></li></ul></li></ul></li></ul></li></ul></li></ul></li></ul></div><script>function toggleHeader() {\n",
       "    const parent = this.parentElement;\n",
       "    parent.className = parent.className === \"ee-open\" ? \"ee-shut\" : \"ee-open\";\n",
       "}\n",
       "\n",
       "for (let c of document.getElementsByClassName(\"ee-toggle\")) {\n",
       "    c.onclick = toggleHeader;\n",
       "}</script></div>"
      ],
      "text/plain": [
       "<ee.image.Image at 0x19c0b05b950>"
      ]
     },
     "execution_count": 9,
     "metadata": {},
     "output_type": "execute_result"
    }
   ],
   "source": [
    "china_CL"
   ]
  },
  {
   "cell_type": "code",
   "execution_count": 10,
   "id": "86f9ff13",
   "metadata": {},
   "outputs": [
    {
     "data": {
      "text/html": [
       "\n",
       "            <style>\n",
       "                .geemap-dark {\n",
       "                    --jp-widgets-color: white;\n",
       "                    --jp-widgets-label-color: white;\n",
       "                    --jp-ui-font-color1: white;\n",
       "                    --jp-layout-color2: #454545;\n",
       "                    background-color: #383838;\n",
       "                }\n",
       "\n",
       "                .geemap-dark .jupyter-button {\n",
       "                    --jp-layout-color3: #383838;\n",
       "                }\n",
       "\n",
       "                .geemap-colab {\n",
       "                    background-color: var(--colab-primary-surface-color, white);\n",
       "                }\n",
       "\n",
       "                .geemap-colab .jupyter-button {\n",
       "                    --jp-layout-color3: var(--colab-primary-surface-color, white);\n",
       "                }\n",
       "            </style>\n",
       "            "
      ],
      "text/plain": [
       "<IPython.core.display.HTML object>"
      ]
     },
     "metadata": {},
     "output_type": "display_data"
    }
   ],
   "source": [
    "scale = china_CL.projection().nominalScale()\n",
    "mask = china_CL.select(['b1']).neq(-999)\n",
    "geometry = china_CL.select(['b1']).geometry()"
   ]
  },
  {
   "cell_type": "code",
   "execution_count": 11,
   "id": "eb040a2a",
   "metadata": {},
   "outputs": [
    {
     "data": {
      "text/html": [
       "\n",
       "            <style>\n",
       "                .geemap-dark {\n",
       "                    --jp-widgets-color: white;\n",
       "                    --jp-widgets-label-color: white;\n",
       "                    --jp-ui-font-color1: white;\n",
       "                    --jp-layout-color2: #454545;\n",
       "                    background-color: #383838;\n",
       "                }\n",
       "\n",
       "                .geemap-dark .jupyter-button {\n",
       "                    --jp-layout-color3: #383838;\n",
       "                }\n",
       "\n",
       "                .geemap-colab {\n",
       "                    background-color: var(--colab-primary-surface-color, white);\n",
       "                }\n",
       "\n",
       "                .geemap-colab .jupyter-button {\n",
       "                    --jp-layout-color3: var(--colab-primary-surface-color, white);\n",
       "                }\n",
       "            </style>\n",
       "            "
      ],
      "text/plain": [
       "<IPython.core.display.HTML object>"
      ]
     },
     "metadata": {},
     "output_type": "display_data"
    }
   ],
   "source": [
    "def clip(image):\n",
    "    image = image.reproject(**{'crs':'EPSG:4326','scale':scale}) \\\n",
    "                 .clipToBoundsAndScale(**{'geometry':geometry,\n",
    "                                          'width':7560,'height':4320}) \\\n",
    "                 .mask(mask)\n",
    "    return image"
   ]
  },
  {
   "cell_type": "markdown",
   "id": "bdbfa906",
   "metadata": {},
   "source": [
    "## 4 LAI"
   ]
  },
  {
   "cell_type": "code",
   "execution_count": null,
   "id": "cbcb8f3e",
   "metadata": {},
   "outputs": [],
   "source": [
    "# 设置时间范围\n",
    "start_date = '2019-12-01'\n",
    "end_date = '2021-01-29'\n",
    "\n",
    "def add_day(image):\n",
    "    day = ee.Date(image.get('system:time_start')).difference(ee.Date('2019-12-01'), 'day')\n",
    "    image = image.addBands(ee.Image(day).rename('day')).set('day', day)\n",
    "    return image\n",
    "\n",
    "# 获取 ERA5-LAND 每日数据集\n",
    "dataset_LAI = ee.ImageCollection('MODIS/061/MCD15A3H') \\\n",
    "    .filterDate(start_date, end_date) \\\n",
    "    .filterBounds(geometry) \\\n",
    "    .select(['Lai']).map(add_day)"
   ]
  },
  {
   "cell_type": "code",
   "execution_count": null,
   "id": "96f384d6",
   "metadata": {},
   "outputs": [],
   "source": [
    "LAI_len = dataset_LAI.size()\n",
    "LAI_list = dataset_LAI.toList(LAI_len)\n",
    "LAI_image = ee.Image(LAI_list.get(0)).addBands(mask)\n",
    "LAI_image"
   ]
  },
  {
   "cell_type": "code",
   "execution_count": null,
   "id": "23d2f8a0",
   "metadata": {},
   "outputs": [],
   "source": [
    "visualization = {\n",
    "  'band': ['Lai'],\n",
    "  'min': 0,\n",
    "  'max': 100\n",
    "}"
   ]
  },
  {
   "cell_type": "code",
   "execution_count": null,
   "id": "51c5dcb5",
   "metadata": {},
   "outputs": [],
   "source": [
    "LAI_list"
   ]
  },
  {
   "cell_type": "code",
   "execution_count": null,
   "id": "17b69e47",
   "metadata": {},
   "outputs": [],
   "source": [
    "Map.addLayer(LAI_image.mask(mask), visualization, 'LAI')"
   ]
  },
  {
   "cell_type": "code",
   "execution_count": null,
   "id": "46188ed3",
   "metadata": {},
   "outputs": [],
   "source": [
    "from datetime import datetime, timedelta\n",
    "\n",
    "start_time = datetime(2020, 1, 1)\n",
    "lai_images = ee.Image(0)\n",
    "\n",
    "def Linear_inter(i):\n",
    "    global lai_images\n",
    "    global start_time\n",
    "    \n",
    "    image = ee.Image(LAI_list.get(i))\n",
    "    lai_images = lai_images.addBands(image.select(['Lai']).rename(str(start_time.strftime(\"%Y-%m-%d\"))).toDouble())\n",
    "    inter_day = ee.Number(image.get('day')).add(1)\n",
    "    \n",
    "    previous = ee.Image(LAI_list.get(i))\n",
    "    previous1 = ee.Image(LAI_list.get(i-1))\n",
    "    previous2 = ee.Image(LAI_list.get(i-2))\n",
    "    nexts = ee.Image(LAI_list.get(i+1))\n",
    "    nexts1 = ee.Image(LAI_list.get(i+2))\n",
    "    nexts2 = ee.Image(LAI_list.get(i+3))\n",
    "    \n",
    "    previous_img = previous.select(['Lai'])\n",
    "    previous_day = previous.select([\"day\"])\n",
    "    previous1_img = previous1.select(['Lai'])\n",
    "    previous1_day = previous1.select([\"day\"])\n",
    "    previous2_img = previous2.select(['Lai'])\n",
    "    previous2_day = previous2.select([\"day\"])\n",
    "    \n",
    "    next_img = nexts.select(['Lai'])\n",
    "    next_day = nexts.select([\"day\"])\n",
    "    next1_img = nexts1.select(['Lai'])\n",
    "    next1_day = nexts1.select([\"day\"])\n",
    "    next2_img = nexts2.select(['Lai'])\n",
    "    next2_day = nexts2.select([\"day\"])\n",
    "    \n",
    "    previous_all_img = previous_img.add(previous1_img).add(previous2_img).divide(ee.Image(3))\n",
    "    previous_all_day = previous_day.add(previous1_day).add(previous2_day).divide(ee.Image(3))\n",
    "    nexts_all_img = next_img.add(next1_img).add(next2_img).divide(ee.Image(3))\n",
    "    nexts_all_day = next_day.add(next1_day).add(next2_day).divide(ee.Image(3))\n",
    "    \n",
    "    nexts_day = ee.Number(ee.Image(LAI_list.get(i+1)).get('day'))\n",
    "    while inter_day.getInfo() != nexts_day.getInfo():\n",
    "        start_time += timedelta(days=1)\n",
    "        inter_img = nexts_all_img.subtract(previous_all_img)\\\n",
    "                            .divide(nexts_all_day.subtract(previous_all_day))\\\n",
    "                            .multiply(ee.Image(inter_day).subtract(previous_all_day))\\\n",
    "                            .add(previous_all_img)\n",
    "\n",
    "        lai_images = lai_images.addBands(inter_img.rename(str(start_time.strftime(\"%Y-%m-%d\"))).toDouble())\n",
    "        inter_day = inter_day.add(1)\n",
    "        \n",
    "    start_time += timedelta(days=1)"
   ]
  },
  {
   "cell_type": "code",
   "execution_count": null,
   "id": "a4ec2424",
   "metadata": {},
   "outputs": [],
   "source": [
    "for num in range(8,100):\n",
    "    Linear_inter(num)"
   ]
  },
  {
   "cell_type": "code",
   "execution_count": null,
   "id": "0b9a6f77",
   "metadata": {},
   "outputs": [],
   "source": [
    "lai_images = lai_images.select(lai_images.bandNames().slice(1,)).reproject(**{'crs':'EPSG:4326','scale':scale}) \\\n",
    "                                              .clipToBoundsAndScale(**{'geometry':geometry,\n",
    "                                                                      'width':7560,'height':4320})\n",
    "lai_images"
   ]
  },
  {
   "cell_type": "markdown",
   "id": "688ee9c9",
   "metadata": {},
   "source": [
    "# download"
   ]
  },
  {
   "cell_type": "code",
   "execution_count": 12,
   "id": "eb8895c2",
   "metadata": {},
   "outputs": [
    {
     "data": {
      "text/html": [
       "\n",
       "            <style>\n",
       "                .geemap-dark {\n",
       "                    --jp-widgets-color: white;\n",
       "                    --jp-widgets-label-color: white;\n",
       "                    --jp-ui-font-color1: white;\n",
       "                    --jp-layout-color2: #454545;\n",
       "                    background-color: #383838;\n",
       "                }\n",
       "\n",
       "                .geemap-dark .jupyter-button {\n",
       "                    --jp-layout-color3: #383838;\n",
       "                }\n",
       "\n",
       "                .geemap-colab {\n",
       "                    background-color: var(--colab-primary-surface-color, white);\n",
       "                }\n",
       "\n",
       "                .geemap-colab .jupyter-button {\n",
       "                    --jp-layout-color3: var(--colab-primary-surface-color, white);\n",
       "                }\n",
       "            </style>\n",
       "            "
      ],
      "text/plain": [
       "<IPython.core.display.HTML object>"
      ]
     },
     "metadata": {},
     "output_type": "display_data"
    }
   ],
   "source": [
    "out = r'H:\\soil_moistur_retrieval\\images\\lai.tif'\n",
    "# geemap.download_ee_image(lai_images, out, shape=[4320,7560])"
   ]
  },
  {
   "cell_type": "code",
   "execution_count": 13,
   "id": "72560b02",
   "metadata": {},
   "outputs": [
    {
     "data": {
      "text/html": [
       "\n",
       "            <style>\n",
       "                .geemap-dark {\n",
       "                    --jp-widgets-color: white;\n",
       "                    --jp-widgets-label-color: white;\n",
       "                    --jp-ui-font-color1: white;\n",
       "                    --jp-layout-color2: #454545;\n",
       "                    background-color: #383838;\n",
       "                }\n",
       "\n",
       "                .geemap-dark .jupyter-button {\n",
       "                    --jp-layout-color3: #383838;\n",
       "                }\n",
       "\n",
       "                .geemap-colab {\n",
       "                    background-color: var(--colab-primary-surface-color, white);\n",
       "                }\n",
       "\n",
       "                .geemap-colab .jupyter-button {\n",
       "                    --jp-layout-color3: var(--colab-primary-surface-color, white);\n",
       "                }\n",
       "            </style>\n",
       "            "
      ],
      "text/plain": [
       "<IPython.core.display.HTML object>"
      ]
     },
     "metadata": {},
     "output_type": "display_data"
    }
   ],
   "source": [
    "# 按照重叠率裁剪多波段图像\n",
    "from glob import glob\n",
    "input_file = out\n",
    "output_folder_path = r\"H:\\soil_moistur_retrieval\\tiles\\lai\"\n",
    "crop_and_replace_nans_infs(input_file, output_folder_path, overlap=0)"
   ]
  },
  {
   "cell_type": "markdown",
   "id": "f7b771b4",
   "metadata": {},
   "source": [
    "## 4.1 LAI time series change after inter and SG smoothing"
   ]
  },
  {
   "cell_type": "code",
   "execution_count": null,
   "id": "0fcce39b",
   "metadata": {},
   "outputs": [],
   "source": [
    "fc_point = ee.FeatureCollection([\n",
    "    ee.Feature(ee.Geometry.Point([112.37, 29.22]), {'name':'Cultivated Land'}),\n",
    "    ee.Feature(ee.Geometry.Point([122.00, 49.80]), {'name':'Forest'}),# 东北\n",
    "    ee.Feature(ee.Geometry.Point([112.88, 28.22]), {'name':'City'}),# 长沙\n",
    "#     ee.Feature(ee.Geometry.Point([119.18, 29.84]), {'name':'Forest1'}),\n",
    "])\n",
    "\n",
    "lai = lai_images.sampleRegions(collection=fc_point)"
   ]
  },
  {
   "cell_type": "code",
   "execution_count": null,
   "id": "5179b0a3",
   "metadata": {},
   "outputs": [],
   "source": [
    "lai"
   ]
  },
  {
   "cell_type": "code",
   "execution_count": null,
   "id": "7191a719",
   "metadata": {},
   "outputs": [],
   "source": [
    "# list(data[0]['properties'].values())[:-1]"
   ]
  },
  {
   "cell_type": "code",
   "execution_count": null,
   "id": "39ad30c9",
   "metadata": {},
   "outputs": [],
   "source": [
    "import pandas as pd\n",
    "import matplotlib.pyplot as plt\n",
    "from scipy.signal import savgol_filter\n",
    "\n",
    "data = lai.getInfo()['features']\n",
    "# 示例数据\n",
    "x_axis_data = list(range(1,367))\n",
    "y_axis_data = list(data[0]['properties'].values())[:-1]\n",
    "y_axis_data1 = list(data[1]['properties'].values())[:-1]\n",
    "y_axis_data2 = list(data[2]['properties'].values())[:-1]\n",
    "# y_axis_data3 = list(data[3]['properties'].values())[:-1]\n",
    "\n",
    "# SG平滑\n",
    "# window_length = 15\n",
    "# polyorder = 2\n",
    "# y_axis_data = savgol_filter(y_axis_data, window_length, polyorder)\n",
    "# y_axis_data1 = savgol_filter(y_axis_data1, window_length, polyorder)\n",
    "# y_axis_data2 = savgol_filter(y_axis_data2, window_length, polyorder)\n",
    "\n",
    "# 绘制折线图\n",
    "plt.plot(x_axis_data, y_axis_data, 'b-', alpha=0.5, linewidth=2, label=list(data[0]['properties'].values())[-1])\n",
    "plt.plot(x_axis_data, y_axis_data1, 'r-', alpha=0.5, linewidth=2, label=list(data[1]['properties'].values())[-1])\n",
    "plt.plot(x_axis_data, y_axis_data2, 'y-', alpha=0.5, linewidth=2, label=list(data[2]['properties'].values())[-1])\n",
    "# plt.plot(x_axis_data, y_axis_data3, 'y-', alpha=0.5, linewidth=1, label=list(data[3]['properties'].values())[-1])\n",
    "# 'b*--' 表示蓝色实线，数据点为实心原点标注\n",
    "\n",
    "plt.legend()  # 显示图例\n",
    "plt.xlabel('DOY')  # x轴标签\n",
    "plt.ylabel('LAI')  # y轴标签\n",
    "\n",
    "plt.show()\n"
   ]
  },
  {
   "cell_type": "code",
   "execution_count": null,
   "id": "99c5a841",
   "metadata": {},
   "outputs": [],
   "source": []
  }
 ],
 "metadata": {
  "kernelspec": {
   "display_name": "gee1",
   "language": "python",
   "name": "gee1"
  },
  "language_info": {
   "codemirror_mode": {
    "name": "ipython",
    "version": 3
   },
   "file_extension": ".py",
   "mimetype": "text/x-python",
   "name": "python",
   "nbconvert_exporter": "python",
   "pygments_lexer": "ipython3",
   "version": "3.11.8"
  }
 },
 "nbformat": 4,
 "nbformat_minor": 5
}
